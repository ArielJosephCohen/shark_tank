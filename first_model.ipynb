{
 "cells": [
  {
   "cell_type": "markdown",
   "metadata": {},
   "source": [
    "# Data: https://www.kaggle.com/rahulsathyajit/shark-tank-pitches"
   ]
  },
  {
   "cell_type": "code",
   "execution_count": 1,
   "metadata": {},
   "outputs": [],
   "source": [
    "import warnings\n",
    "warnings.filterwarnings(\"ignore\")\n",
    "import pandas as pd\n",
    "import numpy as np\n",
    "from scipy import stats\n",
    "import matplotlib.pyplot as plt\n",
    "import seaborn as sns\n",
    "from sklearn.preprocessing import *\n",
    "from sklearn.model_selection import train_test_split\n",
    "from sklearn.feature_selection import RFE, RFECV\n",
    "%matplotlib inline"
   ]
  },
  {
   "cell_type": "code",
   "execution_count": 2,
   "metadata": {},
   "outputs": [],
   "source": [
    "df = pd.read_csv('shark_tank.csv')"
   ]
  },
  {
   "cell_type": "code",
   "execution_count": 3,
   "metadata": {},
   "outputs": [
    {
     "data": {
      "text/html": [
       "<div>\n",
       "<style scoped>\n",
       "    .dataframe tbody tr th:only-of-type {\n",
       "        vertical-align: middle;\n",
       "    }\n",
       "\n",
       "    .dataframe tbody tr th {\n",
       "        vertical-align: top;\n",
       "    }\n",
       "\n",
       "    .dataframe thead th {\n",
       "        text-align: right;\n",
       "    }\n",
       "</style>\n",
       "<table border=\"1\" class=\"dataframe\">\n",
       "  <thead>\n",
       "    <tr style=\"text-align: right;\">\n",
       "      <th></th>\n",
       "      <th>deal</th>\n",
       "      <th>description</th>\n",
       "      <th>episode</th>\n",
       "      <th>category</th>\n",
       "      <th>entrepreneurs</th>\n",
       "      <th>location</th>\n",
       "      <th>website</th>\n",
       "      <th>askedFor</th>\n",
       "      <th>exchangeForStake</th>\n",
       "      <th>valuation</th>\n",
       "      <th>season</th>\n",
       "      <th>shark1</th>\n",
       "      <th>shark2</th>\n",
       "      <th>shark3</th>\n",
       "      <th>shark4</th>\n",
       "      <th>shark5</th>\n",
       "      <th>title</th>\n",
       "      <th>episode-season</th>\n",
       "      <th>Multiple Entreprenuers</th>\n",
       "    </tr>\n",
       "  </thead>\n",
       "  <tbody>\n",
       "    <tr>\n",
       "      <th>0</th>\n",
       "      <td>False</td>\n",
       "      <td>Bluetooth device implant for your ear.</td>\n",
       "      <td>1</td>\n",
       "      <td>Novelties</td>\n",
       "      <td>Darrin Johnson</td>\n",
       "      <td>St. Paul, MN</td>\n",
       "      <td>NaN</td>\n",
       "      <td>1000000</td>\n",
       "      <td>15</td>\n",
       "      <td>6666667</td>\n",
       "      <td>1</td>\n",
       "      <td>Barbara Corcoran</td>\n",
       "      <td>Robert Herjavec</td>\n",
       "      <td>Kevin O'Leary</td>\n",
       "      <td>Daymond John</td>\n",
       "      <td>Kevin Harrington</td>\n",
       "      <td>Ionic Ear</td>\n",
       "      <td>1-1</td>\n",
       "      <td>False</td>\n",
       "    </tr>\n",
       "    <tr>\n",
       "      <th>1</th>\n",
       "      <td>True</td>\n",
       "      <td>Retail and wholesale pie factory with two reta...</td>\n",
       "      <td>1</td>\n",
       "      <td>Specialty Food</td>\n",
       "      <td>Tod Wilson</td>\n",
       "      <td>Somerset, NJ</td>\n",
       "      <td>http://whybake.com/</td>\n",
       "      <td>460000</td>\n",
       "      <td>10</td>\n",
       "      <td>4600000</td>\n",
       "      <td>1</td>\n",
       "      <td>Barbara Corcoran</td>\n",
       "      <td>Robert Herjavec</td>\n",
       "      <td>Kevin O'Leary</td>\n",
       "      <td>Daymond John</td>\n",
       "      <td>Kevin Harrington</td>\n",
       "      <td>Mr. Tod's Pie Factory</td>\n",
       "      <td>1-1</td>\n",
       "      <td>False</td>\n",
       "    </tr>\n",
       "    <tr>\n",
       "      <th>2</th>\n",
       "      <td>True</td>\n",
       "      <td>Ava the Elephant is a godsend for frazzled par...</td>\n",
       "      <td>1</td>\n",
       "      <td>Baby and Child Care</td>\n",
       "      <td>Tiffany Krumins</td>\n",
       "      <td>Atlanta, GA</td>\n",
       "      <td>http://www.avatheelephant.com/</td>\n",
       "      <td>50000</td>\n",
       "      <td>15</td>\n",
       "      <td>333333</td>\n",
       "      <td>1</td>\n",
       "      <td>Barbara Corcoran</td>\n",
       "      <td>Robert Herjavec</td>\n",
       "      <td>Kevin O'Leary</td>\n",
       "      <td>Daymond John</td>\n",
       "      <td>Kevin Harrington</td>\n",
       "      <td>Ava the Elephant</td>\n",
       "      <td>1-1</td>\n",
       "      <td>False</td>\n",
       "    </tr>\n",
       "    <tr>\n",
       "      <th>3</th>\n",
       "      <td>False</td>\n",
       "      <td>Organizing, packing, and moving services deliv...</td>\n",
       "      <td>1</td>\n",
       "      <td>Consumer Services</td>\n",
       "      <td>Nick Friedman, Omar Soliman</td>\n",
       "      <td>Tampa, FL</td>\n",
       "      <td>http://collegehunkshaulingjunk.com/</td>\n",
       "      <td>250000</td>\n",
       "      <td>25</td>\n",
       "      <td>1000000</td>\n",
       "      <td>1</td>\n",
       "      <td>Barbara Corcoran</td>\n",
       "      <td>Robert Herjavec</td>\n",
       "      <td>Kevin O'Leary</td>\n",
       "      <td>Daymond John</td>\n",
       "      <td>Kevin Harrington</td>\n",
       "      <td>College Foxes Packing Boxes</td>\n",
       "      <td>1-1</td>\n",
       "      <td>False</td>\n",
       "    </tr>\n",
       "    <tr>\n",
       "      <th>4</th>\n",
       "      <td>False</td>\n",
       "      <td>Interactive media centers for healthcare waiti...</td>\n",
       "      <td>1</td>\n",
       "      <td>Consumer Services</td>\n",
       "      <td>Kevin Flannery</td>\n",
       "      <td>Cary, NC</td>\n",
       "      <td>http://www.wispots.com/</td>\n",
       "      <td>1200000</td>\n",
       "      <td>10</td>\n",
       "      <td>12000000</td>\n",
       "      <td>1</td>\n",
       "      <td>Barbara Corcoran</td>\n",
       "      <td>Robert Herjavec</td>\n",
       "      <td>Kevin O'Leary</td>\n",
       "      <td>Daymond John</td>\n",
       "      <td>Kevin Harrington</td>\n",
       "      <td>Wispots</td>\n",
       "      <td>1-1</td>\n",
       "      <td>False</td>\n",
       "    </tr>\n",
       "  </tbody>\n",
       "</table>\n",
       "</div>"
      ],
      "text/plain": [
       "    deal                                        description  episode  \\\n",
       "0  False             Bluetooth device implant for your ear.        1   \n",
       "1   True  Retail and wholesale pie factory with two reta...        1   \n",
       "2   True  Ava the Elephant is a godsend for frazzled par...        1   \n",
       "3  False  Organizing, packing, and moving services deliv...        1   \n",
       "4  False  Interactive media centers for healthcare waiti...        1   \n",
       "\n",
       "              category                entrepreneurs      location  \\\n",
       "0            Novelties               Darrin Johnson  St. Paul, MN   \n",
       "1       Specialty Food                   Tod Wilson  Somerset, NJ   \n",
       "2  Baby and Child Care              Tiffany Krumins   Atlanta, GA   \n",
       "3    Consumer Services  Nick Friedman, Omar Soliman     Tampa, FL   \n",
       "4    Consumer Services               Kevin Flannery      Cary, NC   \n",
       "\n",
       "                               website  askedFor  exchangeForStake  valuation  \\\n",
       "0                                  NaN   1000000                15    6666667   \n",
       "1                  http://whybake.com/    460000                10    4600000   \n",
       "2       http://www.avatheelephant.com/     50000                15     333333   \n",
       "3  http://collegehunkshaulingjunk.com/    250000                25    1000000   \n",
       "4              http://www.wispots.com/   1200000                10   12000000   \n",
       "\n",
       "   season            shark1           shark2         shark3        shark4  \\\n",
       "0       1  Barbara Corcoran  Robert Herjavec  Kevin O'Leary  Daymond John   \n",
       "1       1  Barbara Corcoran  Robert Herjavec  Kevin O'Leary  Daymond John   \n",
       "2       1  Barbara Corcoran  Robert Herjavec  Kevin O'Leary  Daymond John   \n",
       "3       1  Barbara Corcoran  Robert Herjavec  Kevin O'Leary  Daymond John   \n",
       "4       1  Barbara Corcoran  Robert Herjavec  Kevin O'Leary  Daymond John   \n",
       "\n",
       "             shark5                        title episode-season  \\\n",
       "0  Kevin Harrington                    Ionic Ear            1-1   \n",
       "1  Kevin Harrington        Mr. Tod's Pie Factory            1-1   \n",
       "2  Kevin Harrington             Ava the Elephant            1-1   \n",
       "3  Kevin Harrington  College Foxes Packing Boxes            1-1   \n",
       "4  Kevin Harrington                      Wispots            1-1   \n",
       "\n",
       "   Multiple Entreprenuers  \n",
       "0                   False  \n",
       "1                   False  \n",
       "2                   False  \n",
       "3                   False  \n",
       "4                   False  "
      ]
     },
     "execution_count": 3,
     "metadata": {},
     "output_type": "execute_result"
    }
   ],
   "source": [
    "df.head()"
   ]
  },
  {
   "cell_type": "code",
   "execution_count": 4,
   "metadata": {},
   "outputs": [
    {
     "name": "stdout",
     "output_type": "stream",
     "text": [
      "<class 'pandas.core.frame.DataFrame'>\n",
      "RangeIndex: 495 entries, 0 to 494\n",
      "Data columns (total 19 columns):\n",
      " #   Column                  Non-Null Count  Dtype \n",
      "---  ------                  --------------  ----- \n",
      " 0   deal                    495 non-null    bool  \n",
      " 1   description             495 non-null    object\n",
      " 2   episode                 495 non-null    int64 \n",
      " 3   category                495 non-null    object\n",
      " 4   entrepreneurs           423 non-null    object\n",
      " 5   location                495 non-null    object\n",
      " 6   website                 457 non-null    object\n",
      " 7   askedFor                495 non-null    int64 \n",
      " 8   exchangeForStake        495 non-null    int64 \n",
      " 9   valuation               495 non-null    int64 \n",
      " 10  season                  495 non-null    int64 \n",
      " 11  shark1                  495 non-null    object\n",
      " 12  shark2                  495 non-null    object\n",
      " 13  shark3                  495 non-null    object\n",
      " 14  shark4                  495 non-null    object\n",
      " 15  shark5                  495 non-null    object\n",
      " 16  title                   495 non-null    object\n",
      " 17  episode-season          495 non-null    object\n",
      " 18  Multiple Entreprenuers  495 non-null    bool  \n",
      "dtypes: bool(2), int64(5), object(12)\n",
      "memory usage: 66.8+ KB\n"
     ]
    }
   ],
   "source": [
    "df.info()"
   ]
  },
  {
   "cell_type": "code",
   "execution_count": 5,
   "metadata": {},
   "outputs": [
    {
     "data": {
      "text/plain": [
       "0"
      ]
     },
     "execution_count": 5,
     "metadata": {},
     "output_type": "execute_result"
    }
   ],
   "source": [
    "int(df.deal[0])"
   ]
  },
  {
   "cell_type": "code",
   "execution_count": 6,
   "metadata": {},
   "outputs": [],
   "source": [
    "df.deal=(df.deal).astype(int)"
   ]
  },
  {
   "cell_type": "code",
   "execution_count": 7,
   "metadata": {},
   "outputs": [],
   "source": [
    "df['Multiple Entreprenuers']=(df['Multiple Entreprenuers']).astype(int)"
   ]
  },
  {
   "cell_type": "code",
   "execution_count": 8,
   "metadata": {},
   "outputs": [
    {
     "data": {
      "text/html": [
       "<div>\n",
       "<style scoped>\n",
       "    .dataframe tbody tr th:only-of-type {\n",
       "        vertical-align: middle;\n",
       "    }\n",
       "\n",
       "    .dataframe tbody tr th {\n",
       "        vertical-align: top;\n",
       "    }\n",
       "\n",
       "    .dataframe thead th {\n",
       "        text-align: right;\n",
       "    }\n",
       "</style>\n",
       "<table border=\"1\" class=\"dataframe\">\n",
       "  <thead>\n",
       "    <tr style=\"text-align: right;\">\n",
       "      <th></th>\n",
       "      <th>deal</th>\n",
       "      <th>description</th>\n",
       "      <th>episode</th>\n",
       "      <th>category</th>\n",
       "      <th>entrepreneurs</th>\n",
       "      <th>location</th>\n",
       "      <th>website</th>\n",
       "      <th>askedFor</th>\n",
       "      <th>exchangeForStake</th>\n",
       "      <th>valuation</th>\n",
       "      <th>season</th>\n",
       "      <th>shark1</th>\n",
       "      <th>shark2</th>\n",
       "      <th>shark3</th>\n",
       "      <th>shark4</th>\n",
       "      <th>shark5</th>\n",
       "      <th>title</th>\n",
       "      <th>episode-season</th>\n",
       "      <th>Multiple Entreprenuers</th>\n",
       "    </tr>\n",
       "  </thead>\n",
       "  <tbody>\n",
       "    <tr>\n",
       "      <th>0</th>\n",
       "      <td>0</td>\n",
       "      <td>Bluetooth device implant for your ear.</td>\n",
       "      <td>1</td>\n",
       "      <td>Novelties</td>\n",
       "      <td>Darrin Johnson</td>\n",
       "      <td>St. Paul, MN</td>\n",
       "      <td>NaN</td>\n",
       "      <td>1000000</td>\n",
       "      <td>15</td>\n",
       "      <td>6666667</td>\n",
       "      <td>1</td>\n",
       "      <td>Barbara Corcoran</td>\n",
       "      <td>Robert Herjavec</td>\n",
       "      <td>Kevin O'Leary</td>\n",
       "      <td>Daymond John</td>\n",
       "      <td>Kevin Harrington</td>\n",
       "      <td>Ionic Ear</td>\n",
       "      <td>1-1</td>\n",
       "      <td>0</td>\n",
       "    </tr>\n",
       "    <tr>\n",
       "      <th>1</th>\n",
       "      <td>1</td>\n",
       "      <td>Retail and wholesale pie factory with two reta...</td>\n",
       "      <td>1</td>\n",
       "      <td>Specialty Food</td>\n",
       "      <td>Tod Wilson</td>\n",
       "      <td>Somerset, NJ</td>\n",
       "      <td>http://whybake.com/</td>\n",
       "      <td>460000</td>\n",
       "      <td>10</td>\n",
       "      <td>4600000</td>\n",
       "      <td>1</td>\n",
       "      <td>Barbara Corcoran</td>\n",
       "      <td>Robert Herjavec</td>\n",
       "      <td>Kevin O'Leary</td>\n",
       "      <td>Daymond John</td>\n",
       "      <td>Kevin Harrington</td>\n",
       "      <td>Mr. Tod's Pie Factory</td>\n",
       "      <td>1-1</td>\n",
       "      <td>0</td>\n",
       "    </tr>\n",
       "    <tr>\n",
       "      <th>2</th>\n",
       "      <td>1</td>\n",
       "      <td>Ava the Elephant is a godsend for frazzled par...</td>\n",
       "      <td>1</td>\n",
       "      <td>Baby and Child Care</td>\n",
       "      <td>Tiffany Krumins</td>\n",
       "      <td>Atlanta, GA</td>\n",
       "      <td>http://www.avatheelephant.com/</td>\n",
       "      <td>50000</td>\n",
       "      <td>15</td>\n",
       "      <td>333333</td>\n",
       "      <td>1</td>\n",
       "      <td>Barbara Corcoran</td>\n",
       "      <td>Robert Herjavec</td>\n",
       "      <td>Kevin O'Leary</td>\n",
       "      <td>Daymond John</td>\n",
       "      <td>Kevin Harrington</td>\n",
       "      <td>Ava the Elephant</td>\n",
       "      <td>1-1</td>\n",
       "      <td>0</td>\n",
       "    </tr>\n",
       "    <tr>\n",
       "      <th>3</th>\n",
       "      <td>0</td>\n",
       "      <td>Organizing, packing, and moving services deliv...</td>\n",
       "      <td>1</td>\n",
       "      <td>Consumer Services</td>\n",
       "      <td>Nick Friedman, Omar Soliman</td>\n",
       "      <td>Tampa, FL</td>\n",
       "      <td>http://collegehunkshaulingjunk.com/</td>\n",
       "      <td>250000</td>\n",
       "      <td>25</td>\n",
       "      <td>1000000</td>\n",
       "      <td>1</td>\n",
       "      <td>Barbara Corcoran</td>\n",
       "      <td>Robert Herjavec</td>\n",
       "      <td>Kevin O'Leary</td>\n",
       "      <td>Daymond John</td>\n",
       "      <td>Kevin Harrington</td>\n",
       "      <td>College Foxes Packing Boxes</td>\n",
       "      <td>1-1</td>\n",
       "      <td>0</td>\n",
       "    </tr>\n",
       "    <tr>\n",
       "      <th>4</th>\n",
       "      <td>0</td>\n",
       "      <td>Interactive media centers for healthcare waiti...</td>\n",
       "      <td>1</td>\n",
       "      <td>Consumer Services</td>\n",
       "      <td>Kevin Flannery</td>\n",
       "      <td>Cary, NC</td>\n",
       "      <td>http://www.wispots.com/</td>\n",
       "      <td>1200000</td>\n",
       "      <td>10</td>\n",
       "      <td>12000000</td>\n",
       "      <td>1</td>\n",
       "      <td>Barbara Corcoran</td>\n",
       "      <td>Robert Herjavec</td>\n",
       "      <td>Kevin O'Leary</td>\n",
       "      <td>Daymond John</td>\n",
       "      <td>Kevin Harrington</td>\n",
       "      <td>Wispots</td>\n",
       "      <td>1-1</td>\n",
       "      <td>0</td>\n",
       "    </tr>\n",
       "  </tbody>\n",
       "</table>\n",
       "</div>"
      ],
      "text/plain": [
       "   deal                                        description  episode  \\\n",
       "0     0             Bluetooth device implant for your ear.        1   \n",
       "1     1  Retail and wholesale pie factory with two reta...        1   \n",
       "2     1  Ava the Elephant is a godsend for frazzled par...        1   \n",
       "3     0  Organizing, packing, and moving services deliv...        1   \n",
       "4     0  Interactive media centers for healthcare waiti...        1   \n",
       "\n",
       "              category                entrepreneurs      location  \\\n",
       "0            Novelties               Darrin Johnson  St. Paul, MN   \n",
       "1       Specialty Food                   Tod Wilson  Somerset, NJ   \n",
       "2  Baby and Child Care              Tiffany Krumins   Atlanta, GA   \n",
       "3    Consumer Services  Nick Friedman, Omar Soliman     Tampa, FL   \n",
       "4    Consumer Services               Kevin Flannery      Cary, NC   \n",
       "\n",
       "                               website  askedFor  exchangeForStake  valuation  \\\n",
       "0                                  NaN   1000000                15    6666667   \n",
       "1                  http://whybake.com/    460000                10    4600000   \n",
       "2       http://www.avatheelephant.com/     50000                15     333333   \n",
       "3  http://collegehunkshaulingjunk.com/    250000                25    1000000   \n",
       "4              http://www.wispots.com/   1200000                10   12000000   \n",
       "\n",
       "   season            shark1           shark2         shark3        shark4  \\\n",
       "0       1  Barbara Corcoran  Robert Herjavec  Kevin O'Leary  Daymond John   \n",
       "1       1  Barbara Corcoran  Robert Herjavec  Kevin O'Leary  Daymond John   \n",
       "2       1  Barbara Corcoran  Robert Herjavec  Kevin O'Leary  Daymond John   \n",
       "3       1  Barbara Corcoran  Robert Herjavec  Kevin O'Leary  Daymond John   \n",
       "4       1  Barbara Corcoran  Robert Herjavec  Kevin O'Leary  Daymond John   \n",
       "\n",
       "             shark5                        title episode-season  \\\n",
       "0  Kevin Harrington                    Ionic Ear            1-1   \n",
       "1  Kevin Harrington        Mr. Tod's Pie Factory            1-1   \n",
       "2  Kevin Harrington             Ava the Elephant            1-1   \n",
       "3  Kevin Harrington  College Foxes Packing Boxes            1-1   \n",
       "4  Kevin Harrington                      Wispots            1-1   \n",
       "\n",
       "   Multiple Entreprenuers  \n",
       "0                       0  \n",
       "1                       0  \n",
       "2                       0  \n",
       "3                       0  \n",
       "4                       0  "
      ]
     },
     "execution_count": 8,
     "metadata": {},
     "output_type": "execute_result"
    }
   ],
   "source": [
    "df.head()"
   ]
  },
  {
   "cell_type": "code",
   "execution_count": 9,
   "metadata": {},
   "outputs": [
    {
     "data": {
      "text/plain": [
       "Specialty Food                                 62\n",
       "Novelties                                      35\n",
       "Baby and Child Care                            24\n",
       "Online Services                                22\n",
       "Personal Care and Cosmetics                    20\n",
       "Toys and Games                                 19\n",
       "Storage and Cleaning Products                  17\n",
       "Outdoor Recreation                             16\n",
       "Electronics                                    14\n",
       "Entertainment                                  13\n",
       "Pet Products                                   13\n",
       "Consumer Services                              13\n",
       "Kitchen Tools                                  12\n",
       "Women's Apparel                                10\n",
       "Professional Services                          10\n",
       "Automotive                                     10\n",
       "Baby and Children's Entertainment               9\n",
       "Men and Women's Apparel                         9\n",
       "Holiday Cheer                                   8\n",
       "Women's Accessories                             8\n",
       "Baby and Children's Apparel and Accessories     8\n",
       "Fitness Programs                                7\n",
       "Home Accessories                                7\n",
       "Undergarments and Basics                        7\n",
       "Fitness Apparel and Accessories                 6\n",
       "Weddings                                        6\n",
       "Homeopathic Remedies                            6\n",
       "Alcoholic Beverages                             5\n",
       "Furniture                                       5\n",
       "Gardening                                       5\n",
       "Health and Well-Being                           5\n",
       "Non-Alcoholic Beverages                         5\n",
       "Productivity Tools                              5\n",
       "Home Improvement                                5\n",
       "Party Supplies                                  5\n",
       "Music                                           5\n",
       "Men's Accessories                               5\n",
       "Men and Women's Shoes                           5\n",
       "Education                                       4\n",
       "Fitness Equipment                               4\n",
       "Mobile Apps                                     4\n",
       "Golf Products                                   4\n",
       "Women's Shoes                                   4\n",
       "Men and Women's Accessories                     4\n",
       "Water Bottles                                   3\n",
       "Home Security Solutions                         3\n",
       "Wine Accessories                                3\n",
       "Cycling                                         3\n",
       "Pest Control                                    3\n",
       "Costumes                                        2\n",
       "Baby and Children's Food                        2\n",
       "Fashion Accessories                             2\n",
       "Maternity                                       2\n",
       "Baby and Children's Bedding                     2\n",
       "Name: category, dtype: int64"
      ]
     },
     "execution_count": 9,
     "metadata": {},
     "output_type": "execute_result"
    }
   ],
   "source": [
    "df.category.value_counts()"
   ]
  },
  {
   "cell_type": "code",
   "execution_count": 10,
   "metadata": {},
   "outputs": [],
   "source": [
    "for i in range(len(df)):\n",
    "    df.location.iloc[i]=df.location[i].split(',')[1]"
   ]
  },
  {
   "cell_type": "code",
   "execution_count": 11,
   "metadata": {},
   "outputs": [
    {
     "data": {
      "text/html": [
       "<div>\n",
       "<style scoped>\n",
       "    .dataframe tbody tr th:only-of-type {\n",
       "        vertical-align: middle;\n",
       "    }\n",
       "\n",
       "    .dataframe tbody tr th {\n",
       "        vertical-align: top;\n",
       "    }\n",
       "\n",
       "    .dataframe thead th {\n",
       "        text-align: right;\n",
       "    }\n",
       "</style>\n",
       "<table border=\"1\" class=\"dataframe\">\n",
       "  <thead>\n",
       "    <tr style=\"text-align: right;\">\n",
       "      <th></th>\n",
       "      <th>deal</th>\n",
       "      <th>description</th>\n",
       "      <th>episode</th>\n",
       "      <th>category</th>\n",
       "      <th>entrepreneurs</th>\n",
       "      <th>location</th>\n",
       "      <th>website</th>\n",
       "      <th>askedFor</th>\n",
       "      <th>exchangeForStake</th>\n",
       "      <th>valuation</th>\n",
       "      <th>season</th>\n",
       "      <th>shark1</th>\n",
       "      <th>shark2</th>\n",
       "      <th>shark3</th>\n",
       "      <th>shark4</th>\n",
       "      <th>shark5</th>\n",
       "      <th>title</th>\n",
       "      <th>episode-season</th>\n",
       "      <th>Multiple Entreprenuers</th>\n",
       "    </tr>\n",
       "  </thead>\n",
       "  <tbody>\n",
       "    <tr>\n",
       "      <th>0</th>\n",
       "      <td>0</td>\n",
       "      <td>Bluetooth device implant for your ear.</td>\n",
       "      <td>1</td>\n",
       "      <td>Novelties</td>\n",
       "      <td>Darrin Johnson</td>\n",
       "      <td>MN</td>\n",
       "      <td>NaN</td>\n",
       "      <td>1000000</td>\n",
       "      <td>15</td>\n",
       "      <td>6666667</td>\n",
       "      <td>1</td>\n",
       "      <td>Barbara Corcoran</td>\n",
       "      <td>Robert Herjavec</td>\n",
       "      <td>Kevin O'Leary</td>\n",
       "      <td>Daymond John</td>\n",
       "      <td>Kevin Harrington</td>\n",
       "      <td>Ionic Ear</td>\n",
       "      <td>1-1</td>\n",
       "      <td>0</td>\n",
       "    </tr>\n",
       "    <tr>\n",
       "      <th>1</th>\n",
       "      <td>1</td>\n",
       "      <td>Retail and wholesale pie factory with two reta...</td>\n",
       "      <td>1</td>\n",
       "      <td>Specialty Food</td>\n",
       "      <td>Tod Wilson</td>\n",
       "      <td>NJ</td>\n",
       "      <td>http://whybake.com/</td>\n",
       "      <td>460000</td>\n",
       "      <td>10</td>\n",
       "      <td>4600000</td>\n",
       "      <td>1</td>\n",
       "      <td>Barbara Corcoran</td>\n",
       "      <td>Robert Herjavec</td>\n",
       "      <td>Kevin O'Leary</td>\n",
       "      <td>Daymond John</td>\n",
       "      <td>Kevin Harrington</td>\n",
       "      <td>Mr. Tod's Pie Factory</td>\n",
       "      <td>1-1</td>\n",
       "      <td>0</td>\n",
       "    </tr>\n",
       "    <tr>\n",
       "      <th>2</th>\n",
       "      <td>1</td>\n",
       "      <td>Ava the Elephant is a godsend for frazzled par...</td>\n",
       "      <td>1</td>\n",
       "      <td>Baby and Child Care</td>\n",
       "      <td>Tiffany Krumins</td>\n",
       "      <td>GA</td>\n",
       "      <td>http://www.avatheelephant.com/</td>\n",
       "      <td>50000</td>\n",
       "      <td>15</td>\n",
       "      <td>333333</td>\n",
       "      <td>1</td>\n",
       "      <td>Barbara Corcoran</td>\n",
       "      <td>Robert Herjavec</td>\n",
       "      <td>Kevin O'Leary</td>\n",
       "      <td>Daymond John</td>\n",
       "      <td>Kevin Harrington</td>\n",
       "      <td>Ava the Elephant</td>\n",
       "      <td>1-1</td>\n",
       "      <td>0</td>\n",
       "    </tr>\n",
       "    <tr>\n",
       "      <th>3</th>\n",
       "      <td>0</td>\n",
       "      <td>Organizing, packing, and moving services deliv...</td>\n",
       "      <td>1</td>\n",
       "      <td>Consumer Services</td>\n",
       "      <td>Nick Friedman, Omar Soliman</td>\n",
       "      <td>FL</td>\n",
       "      <td>http://collegehunkshaulingjunk.com/</td>\n",
       "      <td>250000</td>\n",
       "      <td>25</td>\n",
       "      <td>1000000</td>\n",
       "      <td>1</td>\n",
       "      <td>Barbara Corcoran</td>\n",
       "      <td>Robert Herjavec</td>\n",
       "      <td>Kevin O'Leary</td>\n",
       "      <td>Daymond John</td>\n",
       "      <td>Kevin Harrington</td>\n",
       "      <td>College Foxes Packing Boxes</td>\n",
       "      <td>1-1</td>\n",
       "      <td>0</td>\n",
       "    </tr>\n",
       "    <tr>\n",
       "      <th>4</th>\n",
       "      <td>0</td>\n",
       "      <td>Interactive media centers for healthcare waiti...</td>\n",
       "      <td>1</td>\n",
       "      <td>Consumer Services</td>\n",
       "      <td>Kevin Flannery</td>\n",
       "      <td>NC</td>\n",
       "      <td>http://www.wispots.com/</td>\n",
       "      <td>1200000</td>\n",
       "      <td>10</td>\n",
       "      <td>12000000</td>\n",
       "      <td>1</td>\n",
       "      <td>Barbara Corcoran</td>\n",
       "      <td>Robert Herjavec</td>\n",
       "      <td>Kevin O'Leary</td>\n",
       "      <td>Daymond John</td>\n",
       "      <td>Kevin Harrington</td>\n",
       "      <td>Wispots</td>\n",
       "      <td>1-1</td>\n",
       "      <td>0</td>\n",
       "    </tr>\n",
       "  </tbody>\n",
       "</table>\n",
       "</div>"
      ],
      "text/plain": [
       "   deal                                        description  episode  \\\n",
       "0     0             Bluetooth device implant for your ear.        1   \n",
       "1     1  Retail and wholesale pie factory with two reta...        1   \n",
       "2     1  Ava the Elephant is a godsend for frazzled par...        1   \n",
       "3     0  Organizing, packing, and moving services deliv...        1   \n",
       "4     0  Interactive media centers for healthcare waiti...        1   \n",
       "\n",
       "              category                entrepreneurs location  \\\n",
       "0            Novelties               Darrin Johnson       MN   \n",
       "1       Specialty Food                   Tod Wilson       NJ   \n",
       "2  Baby and Child Care              Tiffany Krumins       GA   \n",
       "3    Consumer Services  Nick Friedman, Omar Soliman       FL   \n",
       "4    Consumer Services               Kevin Flannery       NC   \n",
       "\n",
       "                               website  askedFor  exchangeForStake  valuation  \\\n",
       "0                                  NaN   1000000                15    6666667   \n",
       "1                  http://whybake.com/    460000                10    4600000   \n",
       "2       http://www.avatheelephant.com/     50000                15     333333   \n",
       "3  http://collegehunkshaulingjunk.com/    250000                25    1000000   \n",
       "4              http://www.wispots.com/   1200000                10   12000000   \n",
       "\n",
       "   season            shark1           shark2         shark3        shark4  \\\n",
       "0       1  Barbara Corcoran  Robert Herjavec  Kevin O'Leary  Daymond John   \n",
       "1       1  Barbara Corcoran  Robert Herjavec  Kevin O'Leary  Daymond John   \n",
       "2       1  Barbara Corcoran  Robert Herjavec  Kevin O'Leary  Daymond John   \n",
       "3       1  Barbara Corcoran  Robert Herjavec  Kevin O'Leary  Daymond John   \n",
       "4       1  Barbara Corcoran  Robert Herjavec  Kevin O'Leary  Daymond John   \n",
       "\n",
       "             shark5                        title episode-season  \\\n",
       "0  Kevin Harrington                    Ionic Ear            1-1   \n",
       "1  Kevin Harrington        Mr. Tod's Pie Factory            1-1   \n",
       "2  Kevin Harrington             Ava the Elephant            1-1   \n",
       "3  Kevin Harrington  College Foxes Packing Boxes            1-1   \n",
       "4  Kevin Harrington                      Wispots            1-1   \n",
       "\n",
       "   Multiple Entreprenuers  \n",
       "0                       0  \n",
       "1                       0  \n",
       "2                       0  \n",
       "3                       0  \n",
       "4                       0  "
      ]
     },
     "execution_count": 11,
     "metadata": {},
     "output_type": "execute_result"
    }
   ],
   "source": [
    "df.head()"
   ]
  },
  {
   "cell_type": "code",
   "execution_count": 12,
   "metadata": {},
   "outputs": [
    {
     "data": {
      "text/plain": [
       "<matplotlib.axes._subplots.AxesSubplot at 0x1a27590810>"
      ]
     },
     "execution_count": 12,
     "metadata": {},
     "output_type": "execute_result"
    },
    {
     "data": {
      "image/png": "[encoded data removed]",
      "text/plain": [
       "<Figure size 432x288 with 1 Axes>"
      ]
     },
     "metadata": {
      "needs_background": "light"
     },
     "output_type": "display_data"
    }
   ],
   "source": [
    "sns.distplot(df.askedFor)"
   ]
  },
  {
   "cell_type": "code",
   "execution_count": 13,
   "metadata": {},
   "outputs": [],
   "source": [
    "df['website_length']=0\n",
    "for i in range(len(df)):\n",
    "    try:\n",
    "        df['website_length'][i]=len(df.website[i])\n",
    "    except:\n",
    "        df['website_length'][i]=0"
   ]
  },
  {
   "cell_type": "code",
   "execution_count": 14,
   "metadata": {},
   "outputs": [
    {
     "data": {
      "text/plain": [
       "<matplotlib.axes._subplots.AxesSubplot at 0x1a28a6b410>"
      ]
     },
     "execution_count": 14,
     "metadata": {},
     "output_type": "execute_result"
    },
    {
     "data": {
      "image/png": "[encoded data removed]",
      "text/plain": [
       "<Figure size 432x288 with 1 Axes>"
      ]
     },
     "metadata": {
      "needs_background": "light"
     },
     "output_type": "display_data"
    }
   ],
   "source": [
    "sns.violinplot(df.website_length)"
   ]
  },
  {
   "cell_type": "code",
   "execution_count": 15,
   "metadata": {},
   "outputs": [
    {
     "data": {
      "text/plain": [
       "[(-0.065, 21.667], (21.667, 43.333], (43.333, 65.0]]\n",
       "Categories (3, interval[float64]): [(-0.065, 21.667] < (21.667, 43.333] < (43.333, 65.0]]"
      ]
     },
     "execution_count": 15,
     "metadata": {},
     "output_type": "execute_result"
    }
   ],
   "source": [
    "pd.cut(df.website_length,bins=3).unique()"
   ]
  },
  {
   "cell_type": "code",
   "execution_count": 16,
   "metadata": {},
   "outputs": [],
   "source": [
    "df.website_length=pd.cut(df.website_length,bins=3,labels=['short','medium','long'])"
   ]
  },
  {
   "cell_type": "code",
   "execution_count": 17,
   "metadata": {},
   "outputs": [
    {
     "data": {
      "text/html": [
       "<div>\n",
       "<style scoped>\n",
       "    .dataframe tbody tr th:only-of-type {\n",
       "        vertical-align: middle;\n",
       "    }\n",
       "\n",
       "    .dataframe tbody tr th {\n",
       "        vertical-align: top;\n",
       "    }\n",
       "\n",
       "    .dataframe thead th {\n",
       "        text-align: right;\n",
       "    }\n",
       "</style>\n",
       "<table border=\"1\" class=\"dataframe\">\n",
       "  <thead>\n",
       "    <tr style=\"text-align: right;\">\n",
       "      <th></th>\n",
       "      <th>deal</th>\n",
       "      <th>description</th>\n",
       "      <th>episode</th>\n",
       "      <th>category</th>\n",
       "      <th>entrepreneurs</th>\n",
       "      <th>location</th>\n",
       "      <th>website</th>\n",
       "      <th>askedFor</th>\n",
       "      <th>exchangeForStake</th>\n",
       "      <th>valuation</th>\n",
       "      <th>season</th>\n",
       "      <th>shark1</th>\n",
       "      <th>shark2</th>\n",
       "      <th>shark3</th>\n",
       "      <th>shark4</th>\n",
       "      <th>shark5</th>\n",
       "      <th>title</th>\n",
       "      <th>episode-season</th>\n",
       "      <th>Multiple Entreprenuers</th>\n",
       "      <th>website_length</th>\n",
       "    </tr>\n",
       "  </thead>\n",
       "  <tbody>\n",
       "    <tr>\n",
       "      <th>0</th>\n",
       "      <td>0</td>\n",
       "      <td>Bluetooth device implant for your ear.</td>\n",
       "      <td>1</td>\n",
       "      <td>Novelties</td>\n",
       "      <td>Darrin Johnson</td>\n",
       "      <td>MN</td>\n",
       "      <td>NaN</td>\n",
       "      <td>1000000</td>\n",
       "      <td>15</td>\n",
       "      <td>6666667</td>\n",
       "      <td>1</td>\n",
       "      <td>Barbara Corcoran</td>\n",
       "      <td>Robert Herjavec</td>\n",
       "      <td>Kevin O'Leary</td>\n",
       "      <td>Daymond John</td>\n",
       "      <td>Kevin Harrington</td>\n",
       "      <td>Ionic Ear</td>\n",
       "      <td>1-1</td>\n",
       "      <td>0</td>\n",
       "      <td>short</td>\n",
       "    </tr>\n",
       "    <tr>\n",
       "      <th>1</th>\n",
       "      <td>1</td>\n",
       "      <td>Retail and wholesale pie factory with two reta...</td>\n",
       "      <td>1</td>\n",
       "      <td>Specialty Food</td>\n",
       "      <td>Tod Wilson</td>\n",
       "      <td>NJ</td>\n",
       "      <td>http://whybake.com/</td>\n",
       "      <td>460000</td>\n",
       "      <td>10</td>\n",
       "      <td>4600000</td>\n",
       "      <td>1</td>\n",
       "      <td>Barbara Corcoran</td>\n",
       "      <td>Robert Herjavec</td>\n",
       "      <td>Kevin O'Leary</td>\n",
       "      <td>Daymond John</td>\n",
       "      <td>Kevin Harrington</td>\n",
       "      <td>Mr. Tod's Pie Factory</td>\n",
       "      <td>1-1</td>\n",
       "      <td>0</td>\n",
       "      <td>short</td>\n",
       "    </tr>\n",
       "    <tr>\n",
       "      <th>2</th>\n",
       "      <td>1</td>\n",
       "      <td>Ava the Elephant is a godsend for frazzled par...</td>\n",
       "      <td>1</td>\n",
       "      <td>Baby and Child Care</td>\n",
       "      <td>Tiffany Krumins</td>\n",
       "      <td>GA</td>\n",
       "      <td>http://www.avatheelephant.com/</td>\n",
       "      <td>50000</td>\n",
       "      <td>15</td>\n",
       "      <td>333333</td>\n",
       "      <td>1</td>\n",
       "      <td>Barbara Corcoran</td>\n",
       "      <td>Robert Herjavec</td>\n",
       "      <td>Kevin O'Leary</td>\n",
       "      <td>Daymond John</td>\n",
       "      <td>Kevin Harrington</td>\n",
       "      <td>Ava the Elephant</td>\n",
       "      <td>1-1</td>\n",
       "      <td>0</td>\n",
       "      <td>medium</td>\n",
       "    </tr>\n",
       "    <tr>\n",
       "      <th>3</th>\n",
       "      <td>0</td>\n",
       "      <td>Organizing, packing, and moving services deliv...</td>\n",
       "      <td>1</td>\n",
       "      <td>Consumer Services</td>\n",
       "      <td>Nick Friedman, Omar Soliman</td>\n",
       "      <td>FL</td>\n",
       "      <td>http://collegehunkshaulingjunk.com/</td>\n",
       "      <td>250000</td>\n",
       "      <td>25</td>\n",
       "      <td>1000000</td>\n",
       "      <td>1</td>\n",
       "      <td>Barbara Corcoran</td>\n",
       "      <td>Robert Herjavec</td>\n",
       "      <td>Kevin O'Leary</td>\n",
       "      <td>Daymond John</td>\n",
       "      <td>Kevin Harrington</td>\n",
       "      <td>College Foxes Packing Boxes</td>\n",
       "      <td>1-1</td>\n",
       "      <td>0</td>\n",
       "      <td>medium</td>\n",
       "    </tr>\n",
       "    <tr>\n",
       "      <th>4</th>\n",
       "      <td>0</td>\n",
       "      <td>Interactive media centers for healthcare waiti...</td>\n",
       "      <td>1</td>\n",
       "      <td>Consumer Services</td>\n",
       "      <td>Kevin Flannery</td>\n",
       "      <td>NC</td>\n",
       "      <td>http://www.wispots.com/</td>\n",
       "      <td>1200000</td>\n",
       "      <td>10</td>\n",
       "      <td>12000000</td>\n",
       "      <td>1</td>\n",
       "      <td>Barbara Corcoran</td>\n",
       "      <td>Robert Herjavec</td>\n",
       "      <td>Kevin O'Leary</td>\n",
       "      <td>Daymond John</td>\n",
       "      <td>Kevin Harrington</td>\n",
       "      <td>Wispots</td>\n",
       "      <td>1-1</td>\n",
       "      <td>0</td>\n",
       "      <td>medium</td>\n",
       "    </tr>\n",
       "  </tbody>\n",
       "</table>\n",
       "</div>"
      ],
      "text/plain": [
       "   deal                                        description  episode  \\\n",
       "0     0             Bluetooth device implant for your ear.        1   \n",
       "1     1  Retail and wholesale pie factory with two reta...        1   \n",
       "2     1  Ava the Elephant is a godsend for frazzled par...        1   \n",
       "3     0  Organizing, packing, and moving services deliv...        1   \n",
       "4     0  Interactive media centers for healthcare waiti...        1   \n",
       "\n",
       "              category                entrepreneurs location  \\\n",
       "0            Novelties               Darrin Johnson       MN   \n",
       "1       Specialty Food                   Tod Wilson       NJ   \n",
       "2  Baby and Child Care              Tiffany Krumins       GA   \n",
       "3    Consumer Services  Nick Friedman, Omar Soliman       FL   \n",
       "4    Consumer Services               Kevin Flannery       NC   \n",
       "\n",
       "                               website  askedFor  exchangeForStake  valuation  \\\n",
       "0                                  NaN   1000000                15    6666667   \n",
       "1                  http://whybake.com/    460000                10    4600000   \n",
       "2       http://www.avatheelephant.com/     50000                15     333333   \n",
       "3  http://collegehunkshaulingjunk.com/    250000                25    1000000   \n",
       "4              http://www.wispots.com/   1200000                10   12000000   \n",
       "\n",
       "   season            shark1           shark2         shark3        shark4  \\\n",
       "0       1  Barbara Corcoran  Robert Herjavec  Kevin O'Leary  Daymond John   \n",
       "1       1  Barbara Corcoran  Robert Herjavec  Kevin O'Leary  Daymond John   \n",
       "2       1  Barbara Corcoran  Robert Herjavec  Kevin O'Leary  Daymond John   \n",
       "3       1  Barbara Corcoran  Robert Herjavec  Kevin O'Leary  Daymond John   \n",
       "4       1  Barbara Corcoran  Robert Herjavec  Kevin O'Leary  Daymond John   \n",
       "\n",
       "             shark5                        title episode-season  \\\n",
       "0  Kevin Harrington                    Ionic Ear            1-1   \n",
       "1  Kevin Harrington        Mr. Tod's Pie Factory            1-1   \n",
       "2  Kevin Harrington             Ava the Elephant            1-1   \n",
       "3  Kevin Harrington  College Foxes Packing Boxes            1-1   \n",
       "4  Kevin Harrington                      Wispots            1-1   \n",
       "\n",
       "   Multiple Entreprenuers website_length  \n",
       "0                       0          short  \n",
       "1                       0          short  \n",
       "2                       0         medium  \n",
       "3                       0         medium  \n",
       "4                       0         medium  "
      ]
     },
     "execution_count": 17,
     "metadata": {},
     "output_type": "execute_result"
    }
   ],
   "source": [
    "df.head()"
   ]
  },
  {
   "cell_type": "code",
   "execution_count": null,
   "metadata": {},
   "outputs": [],
   "source": [
    "df.columns = df.columns.str.replace(' ', '_')"
   ]
  },
  {
   "cell_type": "code",
   "execution_count": null,
   "metadata": {},
   "outputs": [],
   "source": [
    "df.columns"
   ]
  },
  {
   "cell_type": "code",
   "execution_count": null,
   "metadata": {},
   "outputs": [],
   "source": [
    "i=1\n",
    "j=0\n",
    "colors=['red','blue','yellow']\n",
    "plt.figure(figsize=(15,8))\n",
    "for col in ['askedFor','valuation','exchangeForStake']:\n",
    "    plt.subplot(2,2,i)\n",
    "    sns.violinplot(df[col],color=colors[j])\n",
    "    i=i+1\n",
    "    j+=1"
   ]
  },
  {
   "cell_type": "code",
   "execution_count": null,
   "metadata": {},
   "outputs": [],
   "source": [
    "def filter_outliers(dataframe,threshold):\n",
    "    \"\"\"\n",
    "    Input a data frame and have all outliers filtered to a certain and custom threshold of standard deviations\n",
    "    \"\"\"\n",
    "    dataframe = dataframe[(np.abs(stats.zscore(dataframe)) <= threshold).all(axis=1)]\n",
    "    return dataframe"
   ]
  },
  {
   "cell_type": "code",
   "execution_count": null,
   "metadata": {},
   "outputs": [],
   "source": [
    "df.shape"
   ]
  },
  {
   "cell_type": "code",
   "execution_count": null,
   "metadata": {},
   "outputs": [],
   "source": [
    "df.website_length=df.website_length.astype(str)"
   ]
  },
  {
   "cell_type": "code",
   "execution_count": null,
   "metadata": {},
   "outputs": [],
   "source": [
    "df.info()"
   ]
  },
  {
   "cell_type": "code",
   "execution_count": null,
   "metadata": {},
   "outputs": [],
   "source": [
    "df_filter_num = filter_outliers(df.select_dtypes(include=[int,float]),2)"
   ]
  },
  {
   "cell_type": "code",
   "execution_count": null,
   "metadata": {},
   "outputs": [],
   "source": [
    "i=1\n",
    "j=0\n",
    "colors=['red','blue','yellow']\n",
    "plt.figure(figsize=(15,8))\n",
    "for col in ['askedFor','valuation','exchangeForStake']:\n",
    "    plt.subplot(2,2,i)\n",
    "    sns.violinplot(df_filter_num[col],color=colors[j])\n",
    "    i=i+1\n",
    "    j+=1"
   ]
  },
  {
   "cell_type": "code",
   "execution_count": null,
   "metadata": {},
   "outputs": [],
   "source": [
    "df_filter_num['asked_size']=pd.cut(df_filter_num.askedFor,bins=3,labels=['small','medium','large'])\n",
    "df_filter_num['value_size']=pd.cut(df_filter_num.askedFor,bins=3,labels=['small','medium','large'])"
   ]
  },
  {
   "cell_type": "code",
   "execution_count": null,
   "metadata": {},
   "outputs": [],
   "source": [
    "df_filter_cat = df[df.index.isin(df_filter_num.index)].select_dtypes(include='O')"
   ]
  },
  {
   "cell_type": "code",
   "execution_count": null,
   "metadata": {},
   "outputs": [],
   "source": [
    "df_filter_cat.head()"
   ]
  },
  {
   "cell_type": "code",
   "execution_count": null,
   "metadata": {},
   "outputs": [],
   "source": [
    "df_filter=pd.concat([df_filter_cat,df_filter_num],axis=1)"
   ]
  },
  {
   "cell_type": "code",
   "execution_count": null,
   "metadata": {},
   "outputs": [],
   "source": [
    "print(df_filter.shape)\n",
    "df_filter.head()"
   ]
  },
  {
   "cell_type": "code",
   "execution_count": null,
   "metadata": {},
   "outputs": [],
   "source": [
    "df_filter.reset_index(inplace=True)"
   ]
  },
  {
   "cell_type": "code",
   "execution_count": null,
   "metadata": {},
   "outputs": [],
   "source": [
    "df_filter.head()"
   ]
  },
  {
   "cell_type": "code",
   "execution_count": null,
   "metadata": {},
   "outputs": [],
   "source": [
    "df_filter.drop('index',axis=1,inplace=True)"
   ]
  },
  {
   "cell_type": "code",
   "execution_count": null,
   "metadata": {},
   "outputs": [],
   "source": [
    "df_filter.shape"
   ]
  },
  {
   "cell_type": "code",
   "execution_count": null,
   "metadata": {},
   "outputs": [],
   "source": [
    "sns.distplot(df_filter.askedFor)"
   ]
  },
  {
   "cell_type": "code",
   "execution_count": null,
   "metadata": {},
   "outputs": [],
   "source": [
    "df_filter.head()"
   ]
  },
  {
   "cell_type": "code",
   "execution_count": null,
   "metadata": {},
   "outputs": [],
   "source": [
    "df_filter.website.fillna('none',inplace=True)"
   ]
  },
  {
   "cell_type": "code",
   "execution_count": null,
   "metadata": {},
   "outputs": [],
   "source": [
    "for i in range(len(df_filter)):\n",
    "    if df_filter.website[i]=='none':\n",
    "        df_filter.website[i]=0\n",
    "    else:\n",
    "        df_filter.website[i]=1"
   ]
  },
  {
   "cell_type": "code",
   "execution_count": null,
   "metadata": {},
   "outputs": [],
   "source": [
    "df_filter.head()"
   ]
  },
  {
   "cell_type": "code",
   "execution_count": null,
   "metadata": {},
   "outputs": [],
   "source": [
    "df_filter.category.value_counts()"
   ]
  },
  {
   "cell_type": "code",
   "execution_count": null,
   "metadata": {},
   "outputs": [],
   "source": [
    "pitch_cat_df=pd.get_dummies(df_filter.category)"
   ]
  },
  {
   "cell_type": "code",
   "execution_count": null,
   "metadata": {},
   "outputs": [],
   "source": [
    "pitch_cat_df=pitch_cat_df.drop(\"Women's Shoes\",axis=1)"
   ]
  },
  {
   "cell_type": "code",
   "execution_count": null,
   "metadata": {},
   "outputs": [],
   "source": [
    "for col in pitch_cat_df.columns:\n",
    "    df_filter[col]=pitch_cat_df[col]"
   ]
  },
  {
   "cell_type": "code",
   "execution_count": null,
   "metadata": {},
   "outputs": [],
   "source": [
    "df_filter.head()"
   ]
  },
  {
   "cell_type": "code",
   "execution_count": null,
   "metadata": {},
   "outputs": [],
   "source": [
    "df_filter.columns"
   ]
  },
  {
   "cell_type": "code",
   "execution_count": null,
   "metadata": {},
   "outputs": [],
   "source": [
    "df_filter.head()"
   ]
  },
  {
   "cell_type": "code",
   "execution_count": null,
   "metadata": {},
   "outputs": [],
   "source": [
    "df_filter['sharks']=None"
   ]
  },
  {
   "cell_type": "code",
   "execution_count": null,
   "metadata": {},
   "outputs": [],
   "source": [
    "for i in range(len(df_filter)):\n",
    "    df_filter['sharks'][i]=[]"
   ]
  },
  {
   "cell_type": "code",
   "execution_count": null,
   "metadata": {},
   "outputs": [],
   "source": [
    "for i in range(len(df_filter)):\n",
    "    df_filter['sharks'][i].append([df_filter.shark1[i],df_filter.shark2[i],df_filter.shark3[i],df_filter.shark4[i],df_filter.shark5[i]])"
   ]
  },
  {
   "cell_type": "code",
   "execution_count": null,
   "metadata": {},
   "outputs": [],
   "source": [
    "df_filter.head()"
   ]
  },
  {
   "cell_type": "code",
   "execution_count": null,
   "metadata": {},
   "outputs": [],
   "source": [
    "for i in range(len(df_filter)):\n",
    "    df_filter.sharks[i]=df_filter.sharks[i][0]"
   ]
  },
  {
   "cell_type": "code",
   "execution_count": null,
   "metadata": {},
   "outputs": [],
   "source": [
    "df_filter.head()"
   ]
  },
  {
   "cell_type": "code",
   "execution_count": null,
   "metadata": {},
   "outputs": [],
   "source": [
    "df_filter.info()"
   ]
  },
  {
   "cell_type": "code",
   "execution_count": null,
   "metadata": {},
   "outputs": [],
   "source": [
    "df_filter.sharks.astype(str).unique()"
   ]
  },
  {
   "cell_type": "code",
   "execution_count": null,
   "metadata": {},
   "outputs": [],
   "source": [
    "sharks_dict={\n",
    "    'group_1':['Barbara Corcoran', 'Robert Herjavec', \"Kevin O'Leary\", 'Daymond John', 'Kevin Harrington'],\n",
    "    'group_2':['Barbara Corcoran', 'Robert Herjavec', \"Kevin O'Leary\", 'Daymond John', 'Mark Cuban'],\n",
    "    'group_3':['Barbara Corcoran', 'Robert Herjavec', \"Kevin O'Leary\", 'Jeff Foxworthy', 'Daymond John'],\n",
    "    'group_4':['Lori Greiner', 'Robert Herjavec', \"Kevin O'Leary\", 'Daymond John', 'Mark Cuban'],\n",
    "    'group_5':['Lori Greiner', 'Barbara Corcoran', 'Robert Herjavec', \"Kevin O\\'Leary\", 'Mark Cuban'],\n",
    "    'group_6':['Lori Greiner', \"Kevin O'Leary\", 'Daymond John', 'Mark Cuban', 'John Paul DeJoria'],\n",
    "    'group_7':['Lori Greiner', 'Steve Tisch', \"Kevin O'Leary\", 'Daymond John', 'Mark Cuban'],\n",
    "    'group_8':['Lori Greiner', \"Kevin O'Leary\", 'Daymond John', 'Mark Cuban', 'Nick Woodman']\n",
    "}"
   ]
  },
  {
   "cell_type": "code",
   "execution_count": null,
   "metadata": {},
   "outputs": [],
   "source": [
    "df_filter['shark_group']=None"
   ]
  },
  {
   "cell_type": "code",
   "execution_count": null,
   "metadata": {},
   "outputs": [],
   "source": [
    "for i in range(len(df_filter)):\n",
    "    if df_filter.sharks[i]==sharks_dict['group_1']:\n",
    "        df_filter.shark_group[i]=1\n",
    "    elif df_filter.sharks[i]==sharks_dict['group_2']:\n",
    "        df_filter.shark_group[i]=2\n",
    "    elif df_filter.sharks[i]==sharks_dict['group_3']:\n",
    "        df_filter.shark_group[i]=3\n",
    "    elif df_filter.sharks[i]==sharks_dict['group_4']:\n",
    "        df_filter.shark_group[i]=4\n",
    "    elif df_filter.sharks[i]==sharks_dict['group_5']:\n",
    "        df_filter.shark_group[i]=5\n",
    "    elif df_filter.sharks[i]==sharks_dict['group_6']:\n",
    "        df_filter.shark_group[i]=6\n",
    "    elif df_filter.sharks[i]==sharks_dict['group_7']:\n",
    "        df_filter.shark_group[i]=7\n",
    "    else:\n",
    "        df_filter.shark_group[i]=8"
   ]
  },
  {
   "cell_type": "code",
   "execution_count": null,
   "metadata": {},
   "outputs": [],
   "source": [
    "df_filter.columns"
   ]
  },
  {
   "cell_type": "code",
   "execution_count": null,
   "metadata": {},
   "outputs": [],
   "source": [
    "df_filter.iloc[:,0:15].head()"
   ]
  },
  {
   "cell_type": "code",
   "execution_count": null,
   "metadata": {},
   "outputs": [],
   "source": [
    "df_filter.iloc[:,15:30].head()"
   ]
  },
  {
   "cell_type": "code",
   "execution_count": null,
   "metadata": {},
   "outputs": [],
   "source": [
    "df_filter.iloc[:,30:45].head()"
   ]
  },
  {
   "cell_type": "code",
   "execution_count": null,
   "metadata": {},
   "outputs": [],
   "source": [
    "df_filter.iloc[:,45:].head()"
   ]
  },
  {
   "cell_type": "code",
   "execution_count": null,
   "metadata": {},
   "outputs": [],
   "source": [
    "df_filter.columns"
   ]
  },
  {
   "cell_type": "code",
   "execution_count": null,
   "metadata": {},
   "outputs": [],
   "source": [
    "df_filter=df_filter[['deal','description','category', 'entrepreneurs', 'location', 'website', 'website_length','shark1',\n",
    "       'shark2', 'shark3', 'shark4', 'shark5','sharks',\n",
    "       'shark_group' ,'title', 'episode-season', 'episode', 'askedFor', 'exchangeForStake', 'valuation',\n",
    "       'season', 'Multiple_Entreprenuers', 'asked_size', 'value_size',\n",
    "       'Alcoholic Beverages', 'Automotive', 'Baby and Child Care',\n",
    "       \"Baby and Children's Apparel and Accessories\",\n",
    "       \"Baby and Children's Bedding\", \"Baby and Children's Entertainment\",\n",
    "       \"Baby and Children's Food\", 'Consumer Services', 'Costumes', 'Cycling',\n",
    "       'Education', 'Electronics', 'Entertainment', 'Fashion Accessories',\n",
    "       'Fitness Apparel and Accessories', 'Fitness Equipment',\n",
    "       'Fitness Programs', 'Furniture', 'Gardening', 'Golf Products',\n",
    "       'Health and Well-Being', 'Holiday Cheer', 'Home Accessories',\n",
    "       'Home Improvement', 'Home Security Solutions', 'Homeopathic Remedies',\n",
    "       'Kitchen Tools', 'Maternity', \"Men and Women's Accessories\",\n",
    "       \"Men and Women's Apparel\", \"Men and Women's Shoes\", \"Men's Accessories\",\n",
    "       'Mobile Apps', 'Music', 'Non-Alcoholic Beverages', 'Novelties',\n",
    "       'Online Services', 'Outdoor Recreation', 'Party Supplies',\n",
    "       'Personal Care and Cosmetics', 'Pest Control', 'Pet Products',\n",
    "       'Productivity Tools', 'Professional Services', 'Specialty Food',\n",
    "       'Storage and Cleaning Products', 'Toys and Games',\n",
    "       'Undergarments and Basics', 'Water Bottles', 'Weddings',\n",
    "       'Wine Accessories', \"Women's Accessories\", \"Women's Apparel\"]]"
   ]
  },
  {
   "cell_type": "code",
   "execution_count": null,
   "metadata": {},
   "outputs": [],
   "source": [
    "df_filter.head()"
   ]
  },
  {
   "cell_type": "code",
   "execution_count": null,
   "metadata": {},
   "outputs": [],
   "source": [
    "df_filter_basic=df_filter.iloc[:,0:24]\n",
    "df_filter_dummies=df_filter.iloc[:,24:]"
   ]
  },
  {
   "cell_type": "code",
   "execution_count": null,
   "metadata": {},
   "outputs": [],
   "source": [
    "#df_filter_basic.to_csv('cleaned_shark.csv')"
   ]
  },
  {
   "cell_type": "markdown",
   "metadata": {},
   "source": [
    "# I need to address categorical data numerically"
   ]
  },
  {
   "cell_type": "code",
   "execution_count": null,
   "metadata": {},
   "outputs": [],
   "source": [
    "plt.figure(figsize=(15,8))\n",
    "sns.heatmap(abs(df_filter_basic.corr()>=0.7),cmap='plasma')\n",
    "plt.tight_layout()\n",
    "plt.title('correlation between features matchin 70% or higher')\n",
    "plt.show()"
   ]
  },
  {
   "cell_type": "code",
   "execution_count": null,
   "metadata": {},
   "outputs": [],
   "source": [
    "df_filter_basic.info()"
   ]
  },
  {
   "cell_type": "code",
   "execution_count": null,
   "metadata": {},
   "outputs": [],
   "source": [
    "def target_encode(df,target,col):\n",
    "    \n",
    "    dummy_dict = {}\n",
    "    dummy_df = df[[col,target]].groupby(col,as_index=False).mean()\n",
    "    for i in range(len(dummy_df)):\n",
    "        dummy_dict[dummy_df.iloc[i,0]]=dummy_df.iloc[i,1]\n",
    "    df[col]=df[col].map(lambda x: dummy_dict[x])\n",
    "    \n",
    "    return df[col]"
   ]
  },
  {
   "cell_type": "code",
   "execution_count": null,
   "metadata": {},
   "outputs": [],
   "source": [
    "df_filter_basic.columns"
   ]
  },
  {
   "cell_type": "code",
   "execution_count": null,
   "metadata": {},
   "outputs": [],
   "source": [
    "# drop unique and un-needed values\n",
    "df_filter_basic.drop(['description','sharks','title','episode-season','category','entrepreneurs'],axis=1,inplace=True)"
   ]
  },
  {
   "cell_type": "code",
   "execution_count": null,
   "metadata": {},
   "outputs": [],
   "source": [
    "df_filter_basic.info()"
   ]
  },
  {
   "cell_type": "code",
   "execution_count": null,
   "metadata": {},
   "outputs": [],
   "source": [
    "df_filter_basic.shark_group=df_filter_basic.shark_group.astype(float)"
   ]
  },
  {
   "cell_type": "code",
   "execution_count": null,
   "metadata": {},
   "outputs": [],
   "source": [
    "df_filter_basic.info()"
   ]
  },
  {
   "cell_type": "code",
   "execution_count": null,
   "metadata": {},
   "outputs": [],
   "source": [
    "for col in df_filter_basic.select_dtypes(exclude=[int,float]).columns:\n",
    "    df_filter_basic[col]=target_encode(df_filter_basic,'deal',col)"
   ]
  },
  {
   "cell_type": "code",
   "execution_count": null,
   "metadata": {},
   "outputs": [],
   "source": [
    "df_filter_basic.info()"
   ]
  },
  {
   "cell_type": "code",
   "execution_count": null,
   "metadata": {},
   "outputs": [],
   "source": [
    "for col in df_filter_basic.columns:\n",
    "    df_filter_basic[col]=df_filter_basic[col].astype(float)"
   ]
  },
  {
   "cell_type": "code",
   "execution_count": null,
   "metadata": {},
   "outputs": [],
   "source": [
    "df_filter_basic.info()"
   ]
  },
  {
   "cell_type": "code",
   "execution_count": null,
   "metadata": {},
   "outputs": [],
   "source": [
    "for col in df_filter_dummies.columns:\n",
    "    df_filter_dummies[col]=df_filter_dummies[col].astype(float)"
   ]
  },
  {
   "cell_type": "code",
   "execution_count": null,
   "metadata": {},
   "outputs": [],
   "source": [
    "plt.figure(figsize=(15,8))\n",
    "sns.heatmap(abs(df_filter_basic.corr()>=0.7),cmap='mako')\n",
    "plt.tight_layout()\n",
    "plt.title('correlation between features matchin 70% or higher')\n",
    "plt.show()"
   ]
  },
  {
   "cell_type": "code",
   "execution_count": null,
   "metadata": {},
   "outputs": [],
   "source": [
    "df_filter_basic.drop(['season','value_size'],axis=1,inplace=True)"
   ]
  },
  {
   "cell_type": "code",
   "execution_count": null,
   "metadata": {},
   "outputs": [],
   "source": [
    "plt.figure(figsize=(15,8))\n",
    "sns.heatmap(abs(df_filter_basic.corr()>=0.8),cmap='magma_r')\n",
    "plt.tight_layout()\n",
    "plt.title('correlation between features matchin 80% or higher')\n",
    "plt.show()"
   ]
  },
  {
   "cell_type": "code",
   "execution_count": null,
   "metadata": {},
   "outputs": [],
   "source": [
    "df_filter_basic.drop(['shark_group'],axis=1,inplace=True)"
   ]
  },
  {
   "cell_type": "code",
   "execution_count": null,
   "metadata": {},
   "outputs": [],
   "source": [
    "plt.figure(figsize=(15,8))\n",
    "sns.heatmap(abs(df_filter_basic.corr()>=0.85),cmap='summer')\n",
    "plt.tight_layout()\n",
    "plt.title('correlation between features matchin 85% or higher')\n",
    "plt.show()"
   ]
  },
  {
   "cell_type": "markdown",
   "metadata": {},
   "source": [
    "# I'd like to keep info on which shark was in even though it has high correlation"
   ]
  }
 ],
 "metadata": {
  "kernelspec": {
   "display_name": "Python 3",
   "language": "python",
   "name": "python3"
  },
  "language_info": {
   "codemirror_mode": {
    "name": "ipython",
    "version": 3
   },
   "file_extension": ".py",
   "mimetype": "text/x-python",
   "name": "python",
   "nbconvert_exporter": "python",
   "pygments_lexer": "ipython3",
   "version": "3.7.6"
  }
 },
 "nbformat": 4,
 "nbformat_minor": 4
}
